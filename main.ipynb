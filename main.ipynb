{
 "cells": [
  {
   "cell_type": "code",
   "execution_count": null,
   "id": "04f42dac",
   "metadata": {},
   "outputs": [],
   "source": [
    "import torch\n",
    "import torch.nn as nn\n",
    "import torch.optim as optim\n",
    "from torchvision import models, transforms, datasets\n",
    "from torch.utils.data import DataLoader, random_split\n",
    "from PIL import Image"
   ]
  },
  {
   "cell_type": "code",
   "execution_count": 15,
   "id": "818b6caa",
   "metadata": {},
   "outputs": [],
   "source": [
    "class flowerModel():\n",
    "    def __init__(self):\n",
    "        self.model = models.resnet18(pretrained=True)\n",
    "        self.device = torch.device(\"cuda\" if torch.cuda.is_available() else \"cpu\")\n",
    "        self.model.to(self.device)\n",
    "        self.criterion = nn.CrossEntropyLoss()\n",
    "        self.optimizer = optim.Adam(self.model.parameters(), lr=0.001)\n",
    "\n",
    "    def transform_image(self):\n",
    "        transform = transforms.Compose([\n",
    "            transforms.Resize((224, 224)),\n",
    "            transforms.ToTensor(),\n",
    "            transforms.Normalize([0.485, 0.456, 0.406],\n",
    "                                 [0.229, 0.224, 0.225])\n",
    "        ])\n",
    "        return transform\n",
    "\n",
    "    def load_data(self, path):\n",
    "        dataset = datasets.ImageFolder(root=path, transform=self.transform_image())\n",
    "        self.classes = dataset.classes\n",
    "\n",
    "        train_size = int(len(dataset) * 0.8)\n",
    "        validation_size = len(dataset) - train_size\n",
    "        train_dataset, validation_dataset = random_split(dataset, [train_size, validation_size])\n",
    "\n",
    "        train_loader = DataLoader(train_dataset, batch_size=32, shuffle=True)\n",
    "        validation_loader = DataLoader(validation_dataset, batch_size=32, shuffle=False)\n",
    "\n",
    "        # Replace the last layer now that we know num_classes\n",
    "        num_classes = len(self.classes)\n",
    "        self.model.fc = nn.Linear(self.model.fc.in_features, num_classes)\n",
    "        self.model.to(self.device)\n",
    "\n",
    "        self.train(train_loader, validation_loader, epochs=10)\n",
    "\n",
    "    def train(self, train_loader, validation_loader, epochs=10):\n",
    "        for epoch in range(epochs):\n",
    "            self.model.train()\n",
    "            running_loss = 0.0\n",
    "            for images, labels in train_loader:\n",
    "                images, labels = images.to(self.device), labels.to(self.device)\n",
    "\n",
    "                self.optimizer.zero_grad()\n",
    "                outputs = self.model(images)\n",
    "                loss = self.criterion(outputs, labels)\n",
    "                loss.backward()\n",
    "                self.optimizer.step()\n",
    "\n",
    "                running_loss += loss.item()\n",
    "\n",
    "            print(f\"Epoch {epoch+1}, Loss: {running_loss/len(train_loader):.4f}\")\n",
    "\n",
    "    def predict(self, image_path):\n",
    "        image = Image.open(image_path).convert(\"RGB\")\n",
    "        img_t = self.transform_image()(image)\n",
    "        img_t = img_t.unsqueeze(0).to(self.device)\n",
    "\n",
    "        self.model.eval()\n",
    "        with torch.no_grad():\n",
    "            outputs = self.model(img_t)\n",
    "            _, predicted = torch.max(outputs, 1)\n",
    "\n",
    "        class_name = self.classes[predicted.item()]\n",
    "        print(\"Predicted class:\", class_name)\n"
   ]
  },
  {
   "cell_type": "code",
   "execution_count": null,
   "id": "6ccc58ed",
   "metadata": {},
   "outputs": [
    {
     "name": "stderr",
     "output_type": "stream",
     "text": [
      "/home/nitin/coding/Projects/plant_detection/myenv/lib/python3.12/site-packages/torchvision/models/_utils.py:208: UserWarning: The parameter 'pretrained' is deprecated since 0.13 and may be removed in the future, please use 'weights' instead.\n",
      "  warnings.warn(\n",
      "/home/nitin/coding/Projects/plant_detection/myenv/lib/python3.12/site-packages/torchvision/models/_utils.py:223: UserWarning: Arguments other than a weight enum or `None` for 'weights' are deprecated since 0.13 and may be removed in the future. The current behavior is equivalent to passing `weights=ResNet18_Weights.IMAGENET1K_V1`. You can also use `weights=ResNet18_Weights.DEFAULT` to get the most up-to-date weights.\n",
      "  warnings.warn(msg)\n"
     ]
    },
    {
     "name": "stdout",
     "output_type": "stream",
     "text": [
      "Epoch 1, Loss: 0.6756\n",
      "Epoch 2, Loss: 0.4544\n"
     ]
    }
   ],
   "source": [
    "flower = flowerModel()\n",
    "# don't change this path\n",
    "flower.load_data(\"./flowers/\") # train data path\n",
    "\n",
    "\n",
    "# add image path to predict\n",
    "flower.predict(\"./rose.jpg\")    # test image path"
   ]
  }
 ],
 "metadata": {
  "kernelspec": {
   "display_name": "myenv",
   "language": "python",
   "name": "python3"
  },
  "language_info": {
   "codemirror_mode": {
    "name": "ipython",
    "version": 3
   },
   "file_extension": ".py",
   "mimetype": "text/x-python",
   "name": "python",
   "nbconvert_exporter": "python",
   "pygments_lexer": "ipython3",
   "version": "3.12.3"
  }
 },
 "nbformat": 4,
 "nbformat_minor": 5
}
